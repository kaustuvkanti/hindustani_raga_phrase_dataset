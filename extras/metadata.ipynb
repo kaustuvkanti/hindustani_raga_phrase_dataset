{
 "cells": [
  {
   "cell_type": "code",
   "execution_count": 1,
   "metadata": {
    "collapsed": true
   },
   "outputs": [],
   "source": [
    "from makammusicbrainz.audiometadata import AudioMetadata\n",
    "from ahenkidentifier.ahenkidentifier import AhenkIdentifier\n",
    "import json\n",
    "import os\n"
   ]
  },
  {
   "cell_type": "markdown",
   "metadata": {},
   "source": [
    "We crawl the metadata from MusicBrainz using [makammusicbrainz](https://github.com/sertansenturk/makammusicbrainz)."
   ]
  },
  {
   "cell_type": "code",
   "execution_count": 2,
   "metadata": {
    "collapsed": false
   },
   "outputs": [],
   "source": [
    "annotations = json.load(open('../annotations.json'))\n",
    "mbids = [os.path.split(aa['mbid'])[-1] for aa in annotations]\n",
    "makams = [aa['makam'] for aa in annotations]\n",
    "\n",
    "audio_meta_crawler = AudioMetadata()\n",
    "for ii, (mbid, makam) in enumerate(zip(mbids, makams)):\n",
    "    save_file = os.path.join('../data/%s/%s.json' % (makam, mbid))\n",
    "    if not os.path.exists(save_file):\n",
    "        print(\"Crawling %s\" %mbid)\n",
    "        meta = audio_meta_crawler.from_musicbrainz(mbid)\n",
    "        json.dump(meta, open(save_file, 'w'), indent=4)\n",
    "        "
   ]
  }
 ],
 "metadata": {
  "kernelspec": {
   "display_name": "Python 2",
   "language": "python",
   "name": "python2"
  },
  "language_info": {
   "codemirror_mode": {
    "name": "ipython",
    "version": 2
   },
   "file_extension": ".py",
   "mimetype": "text/x-python",
   "name": "python",
   "nbconvert_exporter": "python",
   "pygments_lexer": "ipython2",
   "version": "2.7.11+"
  }
 },
 "nbformat": 4,
 "nbformat_minor": 1
}
